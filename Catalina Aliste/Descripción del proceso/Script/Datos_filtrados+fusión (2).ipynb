{
  "cells": [
    {
      "cell_type": "code",
      "execution_count": null,
      "metadata": {
        "colab": {
          "base_uri": "https://localhost:8080/"
        },
        "id": "NZtr3uVR_Tu1",
        "outputId": "8c1d1e72-23e6-4b9e-b57f-7f41cf7e9d93"
      },
      "outputs": [
        {
          "name": "stdout",
          "output_type": "stream",
          "text": [
            "     Especie Id  Version     Reino  Division     Clase      Orden  Familia  \\\n",
            "432          13        1  Animalia  Chordata  Mammalia  Carnivora  Felidae   \n",
            "433          14        1  Animalia  Chordata  Mammalia  Carnivora  Felidae   \n",
            "\n",
            "        Genero    Nombre Cientifico        Nombre Comun  Origen  \\\n",
            "432  Leopardus     Leopardus guigna               Güiña  Nativa   \n",
            "433  Leopardus  Leopardus jacobitus  Gato montés andino  Nativa   \n",
            "\n",
            "                      Estado Conservacion  \n",
            "432  Casi amenazada (NT), Vulnerable (VU)  \n",
            "433                 En Peligro (EN), Rara  \n",
            "   Especie Id_x  Version_x   Reino_x  Division   Clase_x    Orden_x Familia_x  \\\n",
            "0            13          1  Animalia  Chordata  Mammalia  Carnivora   Felidae   \n",
            "1            13          1  Animalia  Chordata  Mammalia  Carnivora   Felidae   \n",
            "2            13          1  Animalia  Chordata  Mammalia  Carnivora   Felidae   \n",
            "3            14          1  Animalia  Chordata  Mammalia  Carnivora   Felidae   \n",
            "4            14          1  Animalia  Chordata  Mammalia  Carnivora   Felidae   \n",
            "5            14          1  Animalia  Chordata  Mammalia  Carnivora   Felidae   \n",
            "\n",
            "      Genero  Nombre Cientifico_x      Nombre Comun_x  ... Version_y  \\\n",
            "0  Leopardus     Leopardus guigna               Güiña  ...         1   \n",
            "1  Leopardus     Leopardus guigna               Güiña  ...         1   \n",
            "2  Leopardus     Leopardus guigna               Güiña  ...         1   \n",
            "3  Leopardus  Leopardus jacobitus  Gato montés andino  ...         1   \n",
            "4  Leopardus  Leopardus jacobitus  Gato montés andino  ...         1   \n",
            "5  Leopardus  Leopardus jacobitus  Gato montés andino  ...         1   \n",
            "\n",
            "    Reino_y  División   Clase_y    Orden_y Familia_y  Nombre Cientifico_y  \\\n",
            "0  Animalia  Chordata  Mammalia  Carnivora   Felidae   Leopardus colocolo   \n",
            "1  Animalia  Chordata  Mammalia  Carnivora   Felidae        Puma concolor   \n",
            "2  Animalia  Chordata  Mammalia  Carnivora   Felidae  Leopardus geoffroyi   \n",
            "3  Animalia  Chordata  Mammalia  Carnivora   Felidae   Leopardus colocolo   \n",
            "4  Animalia  Chordata  Mammalia  Carnivora   Felidae        Puma concolor   \n",
            "5  Animalia  Chordata  Mammalia  Carnivora   Felidae  Leopardus geoffroyi   \n",
            "\n",
            "     Nombre Comun_y Origen_y Estado Conservacion_y  \n",
            "0     Gato colocolo   Nativa   Casi amenazada (NT)  \n",
            "1              Puma   Nativa       Vulnerable (VU)  \n",
            "2  Gato de geoffroy   Nativa   Casi amenazada (NT)  \n",
            "3     Gato colocolo   Nativa   Casi amenazada (NT)  \n",
            "4              Puma   Nativa       Vulnerable (VU)  \n",
            "5  Gato de geoffroy   Nativa   Casi amenazada (NT)  \n",
            "\n",
            "[6 rows x 23 columns]\n"
          ]
        }
      ],
      "source": [
        " import pandas as pd\n",
        "datos=pd.read_csv(\"/content/drive/MyDrive/Colab Notebooks/Datos/Copia de Especies Endemicas (CATALINA).csv\")\n",
        "datos\n",
        "\n",
        "# Definir mi filtro según género, que sería \"leopardus\", lo que los despejaría y asilaría de el resto de datos que se refieren a plantas u animales de otros géneros.\n",
        "leopardus = 'LEOPARDUS'\n",
        "leopardus2 = 'Leopardus'\n",
        "leopardus3 = 'leopardus'\n",
        "\n",
        "# Filtrar los datos por la variante de genero\n",
        "datos_leopardus = datos [datos[\"Genero\"].str.contains(leopardus) | datos[\"Genero\"].str.contains(leopardus2) | datos[\"Genero\"].str.contains(leopardus3)]\n",
        "print(datos_leopardus)\n",
        "\n",
        "# Sumaré nuevos datos recolectados de otras fuentes, que complementan los ya filtrados\n",
        "datos2=pd.read_csv(\"/content/drive/MyDrive/Datos propios - Hoja 1.csv\")\n",
        "# Fusionar datos\n",
        "super_fusion = datos_leopardus.merge(datos2,on=\"Genero\",how=\"inner\")\n",
        "print(super_fusion)\n",
        "\n",
        "nombre_archivo_excel = \"datos_fusionados.xlsx\"\n",
        "super_fusion.to_excel(nombre_archivo_excel, index=False)\n"
      ]
    }
  ],
  "metadata": {
    "colab": {
      "provenance": []
    },
    "kernelspec": {
      "display_name": "Python 3",
      "name": "python3"
    },
    "language_info": {
      "name": "python"
    }
  },
  "nbformat": 4,
  "nbformat_minor": 0
}
